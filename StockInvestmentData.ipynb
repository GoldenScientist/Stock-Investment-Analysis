{
  "nbformat": 4,
  "nbformat_minor": 0,
  "metadata": {
    "colab": {
      "name": "StockInvestmentData.ipynb",
      "provenance": [],
      "collapsed_sections": []
    },
    "kernelspec": {
      "name": "python3",
      "display_name": "Python 3"
    }
  },
  "cells": [
    {
      "cell_type": "markdown",
      "metadata": {
        "id": "1hu2sI-aTEPg"
      },
      "source": [
        "Import of library"
      ]
    },
    {
      "cell_type": "code",
      "metadata": {
        "id": "vwubozEQJTTt",
        "colab": {
          "resources": {
            "http://localhost:8080/nbextensions/google.colab/files.js": {
              "data": "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",
              "ok": true,
              "headers": [
                [
                  "content-type",
                  "application/javascript"
                ]
              ],
              "status": 200,
              "status_text": ""
            }
          },
          "base_uri": "https://localhost:8080/",
          "height": 177
        },
        "outputId": "17ed4164-0143-4dca-8176-399f51d1b0e8"
      },
      "source": [
        "from google.colab import files\r\n",
        "import pandas as pd\r\n",
        "import matplotlib.pyplot as plt\r\n",
        "import numpy as np\r\n",
        "from matplotlib import style\r\n",
        "from sklearn.preprocessing import MinMaxScaler\r\n",
        "from tensorflow.keras.models import Sequential\r\n",
        "from tensorflow.keras.layers import  Dense,Dropout, LSTM\r\n",
        "style.use('ggplot')\r\n",
        "data_to_load = files.upload()"
      ],
      "execution_count": 1,
      "outputs": [
        {
          "output_type": "display_data",
          "data": {
            "text/html": [
              "\n",
              "     <input type=\"file\" id=\"files-cdb10feb-46ea-40bc-9b94-26566a8d4ced\" name=\"files[]\" multiple disabled\n",
              "        style=\"border:none\" />\n",
              "     <output id=\"result-cdb10feb-46ea-40bc-9b94-26566a8d4ced\">\n",
              "      Upload widget is only available when the cell has been executed in the\n",
              "      current browser session. Please rerun this cell to enable.\n",
              "      </output>\n",
              "      <script src=\"/nbextensions/google.colab/files.js\"></script> "
            ],
            "text/plain": [
              "<IPython.core.display.HTML object>"
            ]
          },
          "metadata": {
            "tags": []
          }
        },
        {
          "output_type": "stream",
          "text": [
            "Saving Equities.csv to Equities.csv\n",
            "Saving Positions.csv to Positions.csv\n",
            "Saving Prices_2020.csv to Prices_2020.csv\n",
            "Saving Prices_Jan_2021.csv to Prices_Jan_2021.csv\n"
          ],
          "name": "stdout"
        }
      ]
    },
    {
      "cell_type": "code",
      "metadata": {
        "id": "ViYJt_L8Ja2N"
      },
      "source": [
        "# store csv files \r\n",
        "import datetime as dt\r\n",
        "equities = pd.read_csv('Equities.csv',sep='|',index_col='Ticker')\r\n",
        "positions = pd.read_csv('Positions.csv',sep='|',index_col='Ticker')\r\n",
        "prices_2020 = pd.read_csv('Prices_2020.csv',sep='|',index_col='Ticker')\r\n",
        "prices_jan_2021 = pd.read_csv('Prices_Jan_2021.csv',sep='|',index_col='Ticker')"
      ],
      "execution_count": 2,
      "outputs": []
    },
    {
      "cell_type": "code",
      "metadata": {
        "id": "jSySMo4zr2UQ"
      },
      "source": [
        "#convert column BuyDate to datetime\r\n",
        "positions['BuyDate'] = pd.to_datetime(positions['BuyDate'], format='%Y%m%d')"
      ],
      "execution_count": 3,
      "outputs": []
    },
    {
      "cell_type": "code",
      "metadata": {
        "id": "FCurXOrQTQ4U"
      },
      "source": [
        "from functools import reduce\r\n",
        "dfs = [positions,equities,prices_jan_2021]\r\n",
        "df_final = reduce(lambda left,right: pd.merge(left,right,on='Ticker'),dfs)"
      ],
      "execution_count": 4,
      "outputs": []
    },
    {
      "cell_type": "code",
      "metadata": {
        "id": "UKiq9ZZoSJaX"
      },
      "source": [
        "df_final['BuyDate'] = pd.to_datetime(df_final['BuyDate'], format='%Y-%m-%d')"
      ],
      "execution_count": 5,
      "outputs": []
    },
    {
      "cell_type": "code",
      "metadata": {
        "colab": {
          "base_uri": "https://localhost:8080/",
          "height": 419
        },
        "id": "TVviR-B9dxTJ",
        "outputId": "d45f3dfc-6492-4d3b-f2ba-f9ef25ce92a8"
      },
      "source": [
        "df_final.set_index('BuyDate')\r\n",
        "df_final['Volume'].plot(figsize=(16,6))"
      ],
      "execution_count": 6,
      "outputs": [
        {
          "output_type": "execute_result",
          "data": {
            "text/plain": [
              "<matplotlib.axes._subplots.AxesSubplot at 0x7fb1cb680b90>"
            ]
          },
          "metadata": {
            "tags": []
          },
          "execution_count": 6
        },
        {
          "output_type": "display_data",
          "data": {
            "image/png": "[encoded data removed]",
            "text/plain": [
              "<Figure size 1152x432 with 1 Axes>"
            ]
          },
          "metadata": {
            "tags": [],
            "needs_background": "light"
          }
        }
      ]
    },
    {
      "cell_type": "code",
      "metadata": {
        "id": "vQi-jT8EIy8Z"
      },
      "source": [
        "#clean nan values\r\n",
        "prices_2020 = prices_2020.dropna()\r\n"
      ],
      "execution_count": 7,
      "outputs": []
    },
    {
      "cell_type": "code",
      "metadata": {
        "id": "Y82j9Nc1uK6L"
      },
      "source": [
        "df_filter_prices_sell = prices_2020.where(prices_2020['Date'] =='2020-01-02')\r\n"
      ],
      "execution_count": 8,
      "outputs": []
    },
    {
      "cell_type": "code",
      "metadata": {
        "id": "0S8WkI_zsXq-"
      },
      "source": [
        "sell_price = df_filter_prices_sell['Price'][0]"
      ],
      "execution_count": 9,
      "outputs": []
    },
    {
      "cell_type": "code",
      "metadata": {
        "id": "LpWdXeXrsd7H"
      },
      "source": [
        "df_filter_prices_buy = prices_2020.where(prices_2020['Date'] =='2020-12-31')"
      ],
      "execution_count": 10,
      "outputs": []
    },
    {
      "cell_type": "code",
      "metadata": {
        "id": "oyVK0IBqspdg"
      },
      "source": [
        "buy_price = df_filter_prices_buy['Price'][len(df_filter_prices_buy) -1]"
      ],
      "execution_count": 11,
      "outputs": []
    },
    {
      "cell_type": "code",
      "metadata": {
        "id": "2kzF68E2s3Ox"
      },
      "source": [
        "df_final['pnl'] = (sell_price - buy_price)* df_final['Quantity']"
      ],
      "execution_count": 12,
      "outputs": []
    },
    {
      "cell_type": "code",
      "metadata": {
        "colab": {
          "base_uri": "https://localhost:8080/",
          "height": 446
        },
        "id": "xlwi5NGqtNG_",
        "outputId": "f449d3d7-db4f-4216-a5f6-c130781e2d7e"
      },
      "source": [
        "df_final"
      ],
      "execution_count": 13,
      "outputs": [
        {
          "output_type": "execute_result",
          "data": {
            "text/html": [
              "<div>\n",
              "<style scoped>\n",
              "    .dataframe tbody tr th:only-of-type {\n",
              "        vertical-align: middle;\n",
              "    }\n",
              "\n",
              "    .dataframe tbody tr th {\n",
              "        vertical-align: top;\n",
              "    }\n",
              "\n",
              "    .dataframe thead th {\n",
              "        text-align: right;\n",
              "    }\n",
              "</style>\n",
              "<table border=\"1\" class=\"dataframe\">\n",
              "  <thead>\n",
              "    <tr style=\"text-align: right;\">\n",
              "      <th></th>\n",
              "      <th>Strategy</th>\n",
              "      <th>Book</th>\n",
              "      <th>BuyDate</th>\n",
              "      <th>Quantity</th>\n",
              "      <th>Currency</th>\n",
              "      <th>Country</th>\n",
              "      <th>Industry</th>\n",
              "      <th>Date</th>\n",
              "      <th>Price</th>\n",
              "      <th>Volume</th>\n",
              "      <th>pnl</th>\n",
              "    </tr>\n",
              "    <tr>\n",
              "      <th>Ticker</th>\n",
              "      <th></th>\n",
              "      <th></th>\n",
              "      <th></th>\n",
              "      <th></th>\n",
              "      <th></th>\n",
              "      <th></th>\n",
              "      <th></th>\n",
              "      <th></th>\n",
              "      <th></th>\n",
              "      <th></th>\n",
              "      <th></th>\n",
              "    </tr>\n",
              "  </thead>\n",
              "  <tbody>\n",
              "    <tr>\n",
              "      <th>ATRS</th>\n",
              "      <td>S0</td>\n",
              "      <td>S0B0</td>\n",
              "      <td>2020-01-02</td>\n",
              "      <td>56</td>\n",
              "      <td>USD</td>\n",
              "      <td>UNITED STATES</td>\n",
              "      <td>Pharmaceuticals</td>\n",
              "      <td>2021-01-04</td>\n",
              "      <td>3.890</td>\n",
              "      <td>1181537</td>\n",
              "      <td>3063.76</td>\n",
              "    </tr>\n",
              "    <tr>\n",
              "      <th>ATRS</th>\n",
              "      <td>S0</td>\n",
              "      <td>S0B0</td>\n",
              "      <td>2020-01-02</td>\n",
              "      <td>56</td>\n",
              "      <td>USD</td>\n",
              "      <td>UNITED STATES</td>\n",
              "      <td>Pharmaceuticals</td>\n",
              "      <td>2021-01-05</td>\n",
              "      <td>3.815</td>\n",
              "      <td>1273463</td>\n",
              "      <td>3063.76</td>\n",
              "    </tr>\n",
              "    <tr>\n",
              "      <th>ATRS</th>\n",
              "      <td>S0</td>\n",
              "      <td>S0B0</td>\n",
              "      <td>2020-01-02</td>\n",
              "      <td>56</td>\n",
              "      <td>USD</td>\n",
              "      <td>UNITED STATES</td>\n",
              "      <td>Pharmaceuticals</td>\n",
              "      <td>2021-01-06</td>\n",
              "      <td>3.850</td>\n",
              "      <td>1276509</td>\n",
              "      <td>3063.76</td>\n",
              "    </tr>\n",
              "    <tr>\n",
              "      <th>ATRS</th>\n",
              "      <td>S0</td>\n",
              "      <td>S0B0</td>\n",
              "      <td>2020-01-02</td>\n",
              "      <td>56</td>\n",
              "      <td>USD</td>\n",
              "      <td>UNITED STATES</td>\n",
              "      <td>Pharmaceuticals</td>\n",
              "      <td>2021-01-07</td>\n",
              "      <td>3.950</td>\n",
              "      <td>714509</td>\n",
              "      <td>3063.76</td>\n",
              "    </tr>\n",
              "    <tr>\n",
              "      <th>ATRS</th>\n",
              "      <td>S0</td>\n",
              "      <td>S0B0</td>\n",
              "      <td>2020-01-02</td>\n",
              "      <td>56</td>\n",
              "      <td>USD</td>\n",
              "      <td>UNITED STATES</td>\n",
              "      <td>Pharmaceuticals</td>\n",
              "      <td>2021-01-08</td>\n",
              "      <td>3.980</td>\n",
              "      <td>1851004</td>\n",
              "      <td>3063.76</td>\n",
              "    </tr>\n",
              "    <tr>\n",
              "      <th>...</th>\n",
              "      <td>...</td>\n",
              "      <td>...</td>\n",
              "      <td>...</td>\n",
              "      <td>...</td>\n",
              "      <td>...</td>\n",
              "      <td>...</td>\n",
              "      <td>...</td>\n",
              "      <td>...</td>\n",
              "      <td>...</td>\n",
              "      <td>...</td>\n",
              "      <td>...</td>\n",
              "    </tr>\n",
              "    <tr>\n",
              "      <th>AXAS</th>\n",
              "      <td>S31</td>\n",
              "      <td>S31B411</td>\n",
              "      <td>2020-01-02</td>\n",
              "      <td>90</td>\n",
              "      <td>USD</td>\n",
              "      <td>UNITED STATES</td>\n",
              "      <td>Oil&amp;Gas</td>\n",
              "      <td>2021-01-22</td>\n",
              "      <td>2.690</td>\n",
              "      <td>209766</td>\n",
              "      <td>4923.90</td>\n",
              "    </tr>\n",
              "    <tr>\n",
              "      <th>AXAS</th>\n",
              "      <td>S31</td>\n",
              "      <td>S31B411</td>\n",
              "      <td>2020-01-02</td>\n",
              "      <td>90</td>\n",
              "      <td>USD</td>\n",
              "      <td>UNITED STATES</td>\n",
              "      <td>Oil&amp;Gas</td>\n",
              "      <td>2021-01-25</td>\n",
              "      <td>2.680</td>\n",
              "      <td>430483</td>\n",
              "      <td>4923.90</td>\n",
              "    </tr>\n",
              "    <tr>\n",
              "      <th>AXAS</th>\n",
              "      <td>S31</td>\n",
              "      <td>S31B411</td>\n",
              "      <td>2020-01-02</td>\n",
              "      <td>90</td>\n",
              "      <td>USD</td>\n",
              "      <td>UNITED STATES</td>\n",
              "      <td>Oil&amp;Gas</td>\n",
              "      <td>2021-01-26</td>\n",
              "      <td>2.650</td>\n",
              "      <td>578646</td>\n",
              "      <td>4923.90</td>\n",
              "    </tr>\n",
              "    <tr>\n",
              "      <th>AXAS</th>\n",
              "      <td>S31</td>\n",
              "      <td>S31B411</td>\n",
              "      <td>2020-01-02</td>\n",
              "      <td>90</td>\n",
              "      <td>USD</td>\n",
              "      <td>UNITED STATES</td>\n",
              "      <td>Oil&amp;Gas</td>\n",
              "      <td>2021-01-27</td>\n",
              "      <td>2.470</td>\n",
              "      <td>478421</td>\n",
              "      <td>4923.90</td>\n",
              "    </tr>\n",
              "    <tr>\n",
              "      <th>AXAS</th>\n",
              "      <td>S31</td>\n",
              "      <td>S31B411</td>\n",
              "      <td>2020-01-02</td>\n",
              "      <td>90</td>\n",
              "      <td>USD</td>\n",
              "      <td>UNITED STATES</td>\n",
              "      <td>Oil&amp;Gas</td>\n",
              "      <td>2021-01-28</td>\n",
              "      <td>2.950</td>\n",
              "      <td>5365048</td>\n",
              "      <td>4923.90</td>\n",
              "    </tr>\n",
              "  </tbody>\n",
              "</table>\n",
              "<p>13748274 rows × 11 columns</p>\n",
              "</div>"
            ],
            "text/plain": [
              "       Strategy     Book    BuyDate  ...  Price   Volume      pnl\n",
              "Ticker                               ...                         \n",
              "ATRS         S0     S0B0 2020-01-02  ...  3.890  1181537  3063.76\n",
              "ATRS         S0     S0B0 2020-01-02  ...  3.815  1273463  3063.76\n",
              "ATRS         S0     S0B0 2020-01-02  ...  3.850  1276509  3063.76\n",
              "ATRS         S0     S0B0 2020-01-02  ...  3.950   714509  3063.76\n",
              "ATRS         S0     S0B0 2020-01-02  ...  3.980  1851004  3063.76\n",
              "...         ...      ...        ...  ...    ...      ...      ...\n",
              "AXAS        S31  S31B411 2020-01-02  ...  2.690   209766  4923.90\n",
              "AXAS        S31  S31B411 2020-01-02  ...  2.680   430483  4923.90\n",
              "AXAS        S31  S31B411 2020-01-02  ...  2.650   578646  4923.90\n",
              "AXAS        S31  S31B411 2020-01-02  ...  2.470   478421  4923.90\n",
              "AXAS        S31  S31B411 2020-01-02  ...  2.950  5365048  4923.90\n",
              "\n",
              "[13748274 rows x 11 columns]"
            ]
          },
          "metadata": {
            "tags": []
          },
          "execution_count": 13
        }
      ]
    },
    {
      "cell_type": "code",
      "metadata": {
        "id": "EEEwJ1pMVi3p"
      },
      "source": [
        "pnl_query = df_final.groupby(['Strategy','Ticker','Currency','Country','Industry','BuyDate'])['pnl'].sum().reset_index()"
      ],
      "execution_count": 14,
      "outputs": []
    },
    {
      "cell_type": "code",
      "metadata": {
        "colab": {
          "base_uri": "https://localhost:8080/",
          "height": 311
        },
        "id": "lBzZfeGRZGlI",
        "outputId": "4d603981-a6a5-433f-a594-79b5c6abbea0"
      },
      "source": [
        "pnl_query['BuyDate'] = pd.to_datetime(pnl_query['BuyDate'], format='%Y-%m-%d')\r\n",
        "pnl_query = pnl_query.set_index('Strategy')\r\n",
        "pnl_query['pnl'].plot()"
      ],
      "execution_count": 15,
      "outputs": [
        {
          "output_type": "execute_result",
          "data": {
            "text/plain": [
              "<matplotlib.axes._subplots.AxesSubplot at 0x7fb1fd5975d0>"
            ]
          },
          "metadata": {
            "tags": []
          },
          "execution_count": 15
        },
        {
          "output_type": "display_data",
          "data": {
            "image/png": "[encoded data removed]",
            "text/plain": [
              "<Figure size 432x288 with 1 Axes>"
            ]
          },
          "metadata": {
            "tags": [],
            "needs_background": "light"
          }
        }
      ]
    },
    {
      "cell_type": "code",
      "metadata": {
        "id": "QXGf_g8PqONL"
      },
      "source": [
        "#clean nan values\r\n",
        "prices_2020 = prices_2020.dropna()\r\n",
        "prices_jan_2021 = prices_jan_2021.dropna()"
      ],
      "execution_count": 17,
      "outputs": []
    },
    {
      "cell_type": "code",
      "metadata": {
        "id": "-ik1gwFmaGik"
      },
      "source": [
        "#parse the column Date to datetime\r\n",
        "total_prices = pd.concat((prices_2020,prices_jan_2021),axis=0)\r\n",
        "total_prices['Date'] = pd.to_datetime(total_prices['Date'], format='%Y-%m-%d')\r\n"
      ],
      "execution_count": 18,
      "outputs": []
    },
    {
      "cell_type": "code",
      "metadata": {
        "colab": {
          "base_uri": "https://localhost:8080/",
          "height": 395
        },
        "id": "8MCJ0Kk0ajNj",
        "outputId": "dbc6f9a4-ba64-4ba6-a7f8-0db9af3a0562"
      },
      "source": [
        "# overview \r\n",
        "total_prices = total_prices.set_index('Date')\r\n",
        "total_prices['Price'].plot(figsize=(16,6))"
      ],
      "execution_count": 21,
      "outputs": [
        {
          "output_type": "execute_result",
          "data": {
            "text/plain": [
              "<matplotlib.axes._subplots.AxesSubplot at 0x7fb1c66ddb90>"
            ]
          },
          "metadata": {
            "tags": []
          },
          "execution_count": 21
        },
        {
          "output_type": "display_data",
          "data": {
            "image/png": "[encoded data removed]",
            "text/plain": [
              "<Figure size 1152x432 with 1 Axes>"
            ]
          },
          "metadata": {
            "tags": [],
            "needs_background": "light"
          }
        }
      ]
    },
    {
      "cell_type": "code",
      "metadata": {
        "id": "6Eu1PyyJeRah"
      },
      "source": [
        "#prepare the data\r\n",
        "scaler = MinMaxScaler(feature_range=(0,1))\r\n",
        "scale_data = scaler.fit_transform(prices_2020['Price'].values.reshape(-1,1))\r\n",
        "predictions_days  = 30 \r\n",
        "x_train = []\r\n",
        "y_train = []\r\n",
        "\r\n",
        "for x in range(predictions_days,len(scale_data)):\r\n",
        "  x_train.append(scale_data[x-predictions_days:x, 0])\r\n",
        "  y_train.append(scale_data[x,0])\r\n",
        "\r\n",
        "x_train,y_train = np.array(x_train), np.array(y_train)\r\n",
        "x_train = np.reshape(x_train, (x_train.shape[0],x_train.shape[1],1 ))"
      ],
      "execution_count": 22,
      "outputs": []
    },
    {
      "cell_type": "code",
      "metadata": {
        "colab": {
          "base_uri": "https://localhost:8080/"
        },
        "id": "wiOL0YgUk6Sv",
        "outputId": "e76bcdb0-8201-410b-c63c-686bc34d0fa3"
      },
      "source": [
        "#build model\r\n",
        "#initializing the RNN\r\n",
        "model = Sequential()\r\n",
        "\r\n",
        "#adding the first LSTM layer and some Dropout for regularization\r\n",
        "model.add(LSTM(units=50,return_sequences=True,input_shape=(x_train.shape[1],1)))\r\n",
        "model.add(Dropout(0.2))\r\n",
        "\r\n",
        "#adding the second LSTM layer and some Dropout for regularization\r\n",
        "model.add(LSTM(units=50,return_sequences=True))\r\n",
        "model.add(Dropout(0.2))\r\n",
        "\r\n",
        "#adding the Third LSTM layer and some Dropout for regularization\r\n",
        "model.add(LSTM(units=50,return_sequences=True))\r\n",
        "model.add(Dropout(0.2))\r\n",
        "\r\n",
        "#adding a fourth LSTM Layer and some Dropout for regularization\r\n",
        "model.add(LSTM(units=50))\r\n",
        "model.add(Dropout(0.2))\r\n",
        "\r\n",
        "#adding the output layer\r\n",
        "model.add(Dense(units=1))\r\n",
        "\r\n",
        "model.compile(optimizer='adam',loss='mean_squared_error')\r\n",
        "model.fit(x_train,y_train, epochs=25, batch_size=32)\r\n",
        "test_data = prices_jan_2021\r\n",
        "actual_prices = test_data['Price'].values\r\n",
        "total_prices = pd.concat((prices_2020['Price'],prices_jan_2021['Price']),axis=0)\r\n",
        "model_inputs = total_prices[len(total_prices) - len(test_data) - predictions_days: ].values\r\n",
        "model_inputs = model_inputs.reshape(-1,1)\r\n",
        "model_inputs = scaler.transform(model_inputs)\r\n",
        "\r\n",
        "#Make predictions on test\r\n",
        "x_test = []\r\n",
        "for x in range(predictions_days,len(model_inputs)):\r\n",
        "  x_test.append(model_inputs[x-predictions_days:x, 0])\r\n",
        "x_test = np.array(x_test)\r\n",
        "x_test = np.reshape(x_test,(x_test.shape[0],x_test.shape[1], 1))"
      ],
      "execution_count": 29,
      "outputs": [
        {
          "output_type": "stream",
          "text": [
            "Epoch 1/25\n",
            "391/391 [==============================] - 29s 59ms/step - loss: 0.0045\n",
            "Epoch 2/25\n",
            "391/391 [==============================] - 24s 61ms/step - loss: 0.0016\n",
            "Epoch 3/25\n",
            "391/391 [==============================] - 24s 61ms/step - loss: 0.0013\n",
            "Epoch 4/25\n",
            "391/391 [==============================] - 24s 61ms/step - loss: 0.0011\n",
            "Epoch 5/25\n",
            "391/391 [==============================] - 24s 62ms/step - loss: 9.4980e-04\n",
            "Epoch 6/25\n",
            "391/391 [==============================] - 24s 62ms/step - loss: 0.0010\n",
            "Epoch 7/25\n",
            "391/391 [==============================] - 24s 63ms/step - loss: 9.0781e-04\n",
            "Epoch 8/25\n",
            "391/391 [==============================] - 24s 62ms/step - loss: 7.1732e-04\n",
            "Epoch 9/25\n",
            "391/391 [==============================] - 24s 62ms/step - loss: 5.7811e-04\n",
            "Epoch 10/25\n",
            "391/391 [==============================] - 25s 63ms/step - loss: 6.2631e-04\n",
            "Epoch 11/25\n",
            "391/391 [==============================] - 25s 63ms/step - loss: 6.3090e-04\n",
            "Epoch 12/25\n",
            "391/391 [==============================] - 24s 63ms/step - loss: 6.0706e-04\n",
            "Epoch 13/25\n",
            "391/391 [==============================] - 24s 62ms/step - loss: 5.1117e-04\n",
            "Epoch 14/25\n",
            "391/391 [==============================] - 24s 62ms/step - loss: 6.6891e-04\n",
            "Epoch 15/25\n",
            "391/391 [==============================] - 25s 63ms/step - loss: 5.1884e-04\n",
            "Epoch 16/25\n",
            "391/391 [==============================] - 24s 62ms/step - loss: 5.1200e-04\n",
            "Epoch 17/25\n",
            "391/391 [==============================] - 24s 62ms/step - loss: 5.1099e-04\n",
            "Epoch 18/25\n",
            "391/391 [==============================] - 24s 62ms/step - loss: 4.8382e-04\n",
            "Epoch 19/25\n",
            "391/391 [==============================] - 24s 62ms/step - loss: 6.4037e-04\n",
            "Epoch 20/25\n",
            "391/391 [==============================] - 25s 63ms/step - loss: 6.0250e-04\n",
            "Epoch 21/25\n",
            "391/391 [==============================] - 24s 62ms/step - loss: 6.9234e-04\n",
            "Epoch 22/25\n",
            "391/391 [==============================] - 24s 62ms/step - loss: 4.0898e-04\n",
            "Epoch 23/25\n",
            "391/391 [==============================] - 24s 62ms/step - loss: 5.5844e-04\n",
            "Epoch 24/25\n",
            "391/391 [==============================] - 24s 62ms/step - loss: 4.2492e-04\n",
            "Epoch 25/25\n",
            "391/391 [==============================] - 24s 62ms/step - loss: 7.9333e-04\n"
          ],
          "name": "stdout"
        }
      ]
    },
    {
      "cell_type": "code",
      "metadata": {
        "id": "iAN1A7R127LU"
      },
      "source": [
        "predicted_prices = model.predict(x_test)"
      ],
      "execution_count": 30,
      "outputs": []
    },
    {
      "cell_type": "code",
      "metadata": {
        "id": "ByF4xG3lm29Z"
      },
      "source": [
        "predicted = predicted_prices.reshape(-1,1)"
      ],
      "execution_count": 31,
      "outputs": []
    },
    {
      "cell_type": "code",
      "metadata": {
        "id": "tkKh0swBnQZO"
      },
      "source": [
        "final_predictions = scaler.inverse_transform(predicted)"
      ],
      "execution_count": 32,
      "outputs": []
    },
    {
      "cell_type": "code",
      "metadata": {
        "id": "LdPTTcQOrXQa"
      },
      "source": [
        "predictions_prices = pd.DataFrame(final_predictions)"
      ],
      "execution_count": 33,
      "outputs": []
    },
    {
      "cell_type": "code",
      "metadata": {
        "colab": {
          "base_uri": "https://localhost:8080/",
          "height": 282
        },
        "id": "WjsSI426nv53",
        "outputId": "0a2f7f20-3500-4656-c26f-07b4da3df8e0"
      },
      "source": [
        "#plot the predicted prices and actuals prices\r\n",
        "plt.plot(predictions_prices,color='blue',label='predicted price')\r\n",
        "plt.plot(actual_prices,color='red',label='real price')\r\n",
        "plt.xlabel('time')\r\n",
        "plt.ylabel('price')\r\n",
        "plt.legend()\r\n",
        "plt.show()"
      ],
      "execution_count": 34,
      "outputs": [
        {
          "output_type": "display_data",
          "data": {
            "image/png": "[encoded data removed]",
            "text/plain": [
              "<Figure size 432x288 with 1 Axes>"
            ]
          },
          "metadata": {
            "tags": [],
            "needs_background": "light"
          }
        }
      ]
    },
    {
      "cell_type": "code",
      "metadata": {
        "id": "O3Vr_9FVyHJK"
      },
      "source": [
        "#fonction to optimize prices and pick up the best strategy\r\n",
        "def max_profit(prices):\r\n",
        "    if not prices:\r\n",
        "        return 0\r\n",
        "\r\n",
        "    max_prof = 0\r\n",
        "    min_price = prices[0]\r\n",
        "\r\n",
        "    for i in range(1, len(prices)):\r\n",
        "        if prices[i] < min_price:\r\n",
        "            min_price = prices[i]\r\n",
        "        max_prof = max(max_prof, prices[i] - min_price)\r\n",
        "    return max_prof"
      ],
      "execution_count": 35,
      "outputs": []
    }
  ]
}